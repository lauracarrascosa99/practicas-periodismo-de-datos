{
 "cells": [
  {
   "cell_type": "markdown",
   "metadata": {},
   "source": [
    "# Análisis del presupuesto del Ayuntamiento de Madrid con Pandas"
   ]
  },
  {
   "cell_type": "markdown",
   "metadata": {},
   "source": [
    "## Instalación de las librerías que vamos a utilizar\n",
    "Para proceder al análisis de esta base de datos, antes necesitamos instalar  pandas, que según la página oficial es una herramienta de análisis de código abierto que está construida sobre el lenguaje de programación Phyton. \n",
    "\n",
    "Fuente: https://pandas.pydata.org/\n",
    "\n",
    "Por tanto, usamos el comando \"!pip install\", lenguaje perteneciente a Phyton y que permite instalar librerías. Como en nuestro caso, queremos instalar la librería pandas, añadimos al comando \"!pip install\" la palabra \"pandas\""
   ]
  },
  {
   "cell_type": "code",
   "execution_count": 12,
   "metadata": {},
   "outputs": [
    {
     "name": "stdout",
     "output_type": "stream",
     "text": [
      "Requirement already satisfied: pandas in /usr/local/lib/python3.8/dist-packages (1.3.1)\r\n",
      "Requirement already satisfied: python-dateutil>=2.7.3 in /usr/local/lib/python3.8/dist-packages (from pandas) (2.8.1)\r\n",
      "Requirement already satisfied: pytz>=2017.3 in /usr/local/lib/python3.8/dist-packages (from pandas) (2020.4)\r\n",
      "Requirement already satisfied: numpy>=1.17.3 in /usr/local/lib/python3.8/dist-packages (from pandas) (1.21.1)\r\n",
      "Requirement already satisfied: six>=1.5 in /usr/lib/python3/dist-packages (from python-dateutil>=2.7.3->pandas) (1.14.0)\r\n"
     ]
    }
   ],
   "source": [
    "!pip install pandas"
   ]
  },
  {
   "cell_type": "markdown",
   "metadata": {},
   "source": [
    "## Configuramos la librería Pandas\n",
    "Para poder importar la librería ya instalada en el paso anterior, pandas y poder usarla en todo nuestro *notebook*, la llamamos \"pd\". Esto significa que a lo largo de nuestro *notebook* para nombrar a una función de pandas no hace falta que escribamos pandas, sino pd que es el nuevo nombre que le hemos proporcionado.\n",
    "Fuente: https://datacarpentry.org/python-ecology-lesson-es/02-starting-with-data/"
   ]
  },
  {
   "cell_type": "code",
   "execution_count": 13,
   "metadata": {},
   "outputs": [],
   "source": [
    "import pandas as pd"
   ]
  },
  {
   "cell_type": "markdown",
   "metadata": {},
   "source": [
    "## Creamos las variables \n",
    "La variable se crea con los datos adjuntos con el símbolo ="
   ]
  },
  {
   "cell_type": "code",
   "execution_count": 14,
   "metadata": {},
   "outputs": [],
   "source": [
    "url_covid = \"https://datosabiertos.jcyl.es/web/jcyl/risp/es/salud/vacunas-covid-edad-sexo-provincia/1285032143059.csv\""
   ]
  },
  {
   "cell_type": "markdown",
   "metadata": {},
   "source": [
    "Verificamos que la variable se ha creado correctamente con la función url_covid porque en el apartado anterior ya la hemos definido. Si el programa, nos devuelve la url del csv es que hemos creado bien la variable"
   ]
  },
  {
   "cell_type": "code",
   "execution_count": 15,
   "metadata": {},
   "outputs": [
    {
     "data": {
      "text/plain": [
       "'https://datosabiertos.jcyl.es/web/jcyl/risp/es/salud/vacunas-covid-edad-sexo-provincia/1285032143059.csv'"
      ]
     },
     "execution_count": 15,
     "metadata": {},
     "output_type": "execute_result"
    }
   ],
   "source": [
    "url_covid"
   ]
  },
  {
   "cell_type": "markdown",
   "metadata": {},
   "source": [
    "## Creamos un nuevo dataframe\n",
    "Como ya hemos definido nuestra variable (url_covid) lo que haremos a continuación será crear un nuevo dataframe de pandas que leerá nuestra base de datos a analizar. Un dataframe, según la página oficial de Pandas, son estructuras de datos de dos dimensiones que incluye datos de muchos tipos, por tanto se les considera heterogéneas. Esta tabla de datos se muestra en JSON, ya definido anteriormente. Por ello, en el siguiente comando \"df\" corresponde a dataframe y después del igual todo aquello que queremos representar en la tabla: pd la librería de pandas, \"read\" es la función que permite leer los datos y json es el lenguaje de programación el cual está presentado. Entre paréntesis ponemos \"url\" porque es donde se contienen todos los datos."
   ]
  },
  {
   "cell_type": "code",
   "execution_count": 21,
   "metadata": {},
   "outputs": [],
   "source": [
    "df = pd.read_csv(url_covid)"
   ]
  },
  {
   "cell_type": "markdown",
   "metadata": {},
   "source": [
    "### Se muestra la tabla\n",
    "Con el comando df (que es como hemos llamado al dataframe), podemos visualizar la tabla. Como vemos en la tabla, no se visualizan bien los datos, porque no hay lectura correcta del csv. "
   ]
  },
  {
   "cell_type": "code",
   "execution_count": 19,
   "metadata": {},
   "outputs": [
    {
     "data": {
      "text/html": [
       "<div>\n",
       "<style scoped>\n",
       "    .dataframe tbody tr th:only-of-type {\n",
       "        vertical-align: middle;\n",
       "    }\n",
       "\n",
       "    .dataframe tbody tr th {\n",
       "        vertical-align: top;\n",
       "    }\n",
       "\n",
       "    .dataframe thead th {\n",
       "        text-align: right;\n",
       "    }\n",
       "</style>\n",
       "<table border=\"1\" class=\"dataframe\">\n",
       "  <thead>\n",
       "    <tr style=\"text-align: right;\">\n",
       "      <th></th>\n",
       "      <th>fecha;provincia;Sexo;edad;dosis_administradas_acumulado;personas_vacunadas_ciclo_completo_acumulado;personas_vacunadas_1a_dosis_acumulado;porcentaje_residentes_1a_dosis;porcentaje_residentes_2a_dosis;personas_vacunadas_3a_dosis_acumulado;porcentaje_residentes_3a_dosis;sigla</th>\n",
       "    </tr>\n",
       "  </thead>\n",
       "  <tbody>\n",
       "    <tr>\n",
       "      <th>0</th>\n",
       "      <td>2021-03-02;Palencia;Mujer;0-15;1;0;1;;;;;PA</td>\n",
       "    </tr>\n",
       "    <tr>\n",
       "      <th>1</th>\n",
       "      <td>2021-03-02;Palencia;Mujer;45-55;3121;1192;1929...</td>\n",
       "    </tr>\n",
       "    <tr>\n",
       "      <th>2</th>\n",
       "      <td>2021-03-02;Palencia;Mujer;80-89;2317;906;1411;...</td>\n",
       "    </tr>\n",
       "    <tr>\n",
       "      <th>3</th>\n",
       "      <td>2021-03-02;Salamanca;Hombre;35-44;1104;342;762...</td>\n",
       "    </tr>\n",
       "    <tr>\n",
       "      <th>4</th>\n",
       "      <td>2021-03-02;Salamanca;Hombre;80-89;2211;841;137...</td>\n",
       "    </tr>\n",
       "    <tr>\n",
       "      <th>...</th>\n",
       "      <td>...</td>\n",
       "    </tr>\n",
       "    <tr>\n",
       "      <th>73629</th>\n",
       "      <td>2021-05-01;Valladolid;Hombre;0-15;;0;1;0.0027;...</td>\n",
       "    </tr>\n",
       "    <tr>\n",
       "      <th>73630</th>\n",
       "      <td>2021-05-01;Valladolid;Hombre;45-55;;1348;3681;...</td>\n",
       "    </tr>\n",
       "    <tr>\n",
       "      <th>73631</th>\n",
       "      <td>2021-05-01;Valladolid;Hombre;56-59;;541;1288;8...</td>\n",
       "    </tr>\n",
       "    <tr>\n",
       "      <th>73632</th>\n",
       "      <td>2021-05-01;Valladolid;Hombre;&gt;89;;2354;2370;10...</td>\n",
       "    </tr>\n",
       "    <tr>\n",
       "      <th>73633</th>\n",
       "      <td>2021-05-01;Valladolid;Mujer;18-24;;525;1409;9....</td>\n",
       "    </tr>\n",
       "  </tbody>\n",
       "</table>\n",
       "<p>73634 rows × 1 columns</p>\n",
       "</div>"
      ],
      "text/plain": [
       "      fecha;provincia;Sexo;edad;dosis_administradas_acumulado;personas_vacunadas_ciclo_completo_acumulado;personas_vacunadas_1a_dosis_acumulado;porcentaje_residentes_1a_dosis;porcentaje_residentes_2a_dosis;personas_vacunadas_3a_dosis_acumulado;porcentaje_residentes_3a_dosis;sigla\n",
       "0            2021-03-02;Palencia;Mujer;0-15;1;0;1;;;;;PA                                                                                                                                                                                                                                \n",
       "1      2021-03-02;Palencia;Mujer;45-55;3121;1192;1929...                                                                                                                                                                                                                                \n",
       "2      2021-03-02;Palencia;Mujer;80-89;2317;906;1411;...                                                                                                                                                                                                                                \n",
       "3      2021-03-02;Salamanca;Hombre;35-44;1104;342;762...                                                                                                                                                                                                                                \n",
       "4      2021-03-02;Salamanca;Hombre;80-89;2211;841;137...                                                                                                                                                                                                                                \n",
       "...                                                  ...                                                                                                                                                                                                                                \n",
       "73629  2021-05-01;Valladolid;Hombre;0-15;;0;1;0.0027;...                                                                                                                                                                                                                                \n",
       "73630  2021-05-01;Valladolid;Hombre;45-55;;1348;3681;...                                                                                                                                                                                                                                \n",
       "73631  2021-05-01;Valladolid;Hombre;56-59;;541;1288;8...                                                                                                                                                                                                                                \n",
       "73632  2021-05-01;Valladolid;Hombre;>89;;2354;2370;10...                                                                                                                                                                                                                                \n",
       "73633  2021-05-01;Valladolid;Mujer;18-24;;525;1409;9....                                                                                                                                                                                                                                \n",
       "\n",
       "[73634 rows x 1 columns]"
      ]
     },
     "execution_count": 19,
     "metadata": {},
     "output_type": "execute_result"
    }
   ],
   "source": [
    "df"
   ]
  },
  {
   "cell_type": "markdown",
   "metadata": {},
   "source": [
    "## Cambio de base de datos\n",
    "\n",
    "Hemos estado probando si el csv anterior sobre la vacunación en Castilla y León podíamos analizarlo para esta práctica, pero como se puede observar al no cargar bien la base de datos no podemos analizarla"
   ]
  },
  {
   "cell_type": "markdown",
   "metadata": {},
   "source": [
    "Para solucionar esto, he escogido otra base de datos: el Presupuesto del Ayuntamiento de Madrid. Y establecemos otra nueva variable con \"=\"."
   ]
  },
  {
   "cell_type": "code",
   "execution_count": 37,
   "metadata": {},
   "outputs": [],
   "source": [
    "url_gasto = \"https://presupuestosabiertos.madrid.es/es/municipio_madrid_gastosf.csv\""
   ]
  },
  {
   "cell_type": "markdown",
   "metadata": {},
   "source": [
    "Verificamos que la variable está creada correctamente con \"url_gasto\". Si nos devuelve el url del csv indicado en el anterior apartado, es que está creado correctamente."
   ]
  },
  {
   "cell_type": "code",
   "execution_count": 38,
   "metadata": {},
   "outputs": [
    {
     "data": {
      "text/plain": [
       "'https://presupuestosabiertos.madrid.es/es/municipio_madrid_gastosf.csv'"
      ]
     },
     "execution_count": 38,
     "metadata": {},
     "output_type": "execute_result"
    }
   ],
   "source": [
    "url_gasto"
   ]
  },
  {
   "cell_type": "markdown",
   "metadata": {},
   "source": [
    "## Elaboración de un nuevo dataframe\n",
    "Como ya hemos creado la nueva variable, creamos un nuevo dataframe para esta nueva base de datos. Un dataframe, [según la página oficial de Pandas](https://pandas.pydata.org/docs/reference/api/pandas.DataFrame.html), son estructuras de datos de dos dimensiones  que incluye datos de muchos tipos, por tanto se les considera heterogéneas. Esta tabla de datos se muestra en formato CSV, que como hemos explicado en clase es un tipo de documento que las columnas están separadas por comas. Por ello, en el siguiente comando \"df\" corresponde a dataframe y después del igual todo aquello que queremos representar en la tabla: pd la librería de pandas, \"read\" es la función que permite leer los datos y a continuación, csv que es el formato de nuestra base de datos. Entre paréntesis ponemos \"url\" porque es donde se contienen todos los datos. "
   ]
  },
  {
   "cell_type": "code",
   "execution_count": 43,
   "metadata": {},
   "outputs": [],
   "source": [
    "df = pd.read_csv(url_gasto)"
   ]
  },
  {
   "cell_type": "markdown",
   "metadata": {},
   "source": [
    "Se visualiza ahora el nuevo dataframe. Con el comando df (que es como hemos llamado al dataframe), podemos visualizar la tabla. "
   ]
  },
  {
   "cell_type": "code",
   "execution_count": 42,
   "metadata": {},
   "outputs": [
    {
     "data": {
      "text/html": [
       "<div>\n",
       "<style scoped>\n",
       "    .dataframe tbody tr th:only-of-type {\n",
       "        vertical-align: middle;\n",
       "    }\n",
       "\n",
       "    .dataframe tbody tr th {\n",
       "        vertical-align: top;\n",
       "    }\n",
       "\n",
       "    .dataframe thead th {\n",
       "        text-align: right;\n",
       "    }\n",
       "</style>\n",
       "<table border=\"1\" class=\"dataframe\">\n",
       "  <thead>\n",
       "    <tr style=\"text-align: right;\">\n",
       "      <th></th>\n",
       "      <th>Año</th>\n",
       "      <th>Id Política</th>\n",
       "      <th>Nombre Política</th>\n",
       "      <th>Id Programa</th>\n",
       "      <th>Nombre Programa</th>\n",
       "      <th>Presupuesto Gasto</th>\n",
       "      <th>Gasto Real</th>\n",
       "    </tr>\n",
       "  </thead>\n",
       "  <tbody>\n",
       "    <tr>\n",
       "      <th>0</th>\n",
       "      <td>2011</td>\n",
       "      <td>24</td>\n",
       "      <td>Fomento del empleo</td>\n",
       "      <td>NaN</td>\n",
       "      <td>NaN</td>\n",
       "      <td>5.421054e+07</td>\n",
       "      <td>47913922.89</td>\n",
       "    </tr>\n",
       "    <tr>\n",
       "      <th>1</th>\n",
       "      <td>2011</td>\n",
       "      <td>24</td>\n",
       "      <td>Fomento del empleo</td>\n",
       "      <td>24108</td>\n",
       "      <td>Programa integrado de empleo</td>\n",
       "      <td>1.189708e+06</td>\n",
       "      <td>1203749.90</td>\n",
       "    </tr>\n",
       "    <tr>\n",
       "      <th>2</th>\n",
       "      <td>2011</td>\n",
       "      <td>24</td>\n",
       "      <td>Fomento del empleo</td>\n",
       "      <td>24102</td>\n",
       "      <td>Formación profesional para el empleo</td>\n",
       "      <td>2.810259e+06</td>\n",
       "      <td>2348227.36</td>\n",
       "    </tr>\n",
       "    <tr>\n",
       "      <th>3</th>\n",
       "      <td>2011</td>\n",
       "      <td>24</td>\n",
       "      <td>Fomento del empleo</td>\n",
       "      <td>24103</td>\n",
       "      <td>Políticas activas de empleo municipales</td>\n",
       "      <td>9.539245e+06</td>\n",
       "      <td>8168288.15</td>\n",
       "    </tr>\n",
       "    <tr>\n",
       "      <th>4</th>\n",
       "      <td>2011</td>\n",
       "      <td>24</td>\n",
       "      <td>Fomento del empleo</td>\n",
       "      <td>24100</td>\n",
       "      <td>Dirección y gestión administrativa de la Agenc...</td>\n",
       "      <td>1.639677e+07</td>\n",
       "      <td>11349697.44</td>\n",
       "    </tr>\n",
       "    <tr>\n",
       "      <th>...</th>\n",
       "      <td>...</td>\n",
       "      <td>...</td>\n",
       "      <td>...</td>\n",
       "      <td>...</td>\n",
       "      <td>...</td>\n",
       "      <td>...</td>\n",
       "      <td>...</td>\n",
       "    </tr>\n",
       "    <tr>\n",
       "      <th>1815</th>\n",
       "      <td>2022</td>\n",
       "      <td>92</td>\n",
       "      <td>Servicios de carácter general</td>\n",
       "      <td>92210</td>\n",
       "      <td>Oficina de coordinación</td>\n",
       "      <td>8.678160e+05</td>\n",
       "      <td>179140.84</td>\n",
       "    </tr>\n",
       "    <tr>\n",
       "      <th>1816</th>\n",
       "      <td>2022</td>\n",
       "      <td>92</td>\n",
       "      <td>Servicios de carácter general</td>\n",
       "      <td>92008</td>\n",
       "      <td>Planificación de recursos humanos</td>\n",
       "      <td>1.142852e+07</td>\n",
       "      <td>2136730.36</td>\n",
       "    </tr>\n",
       "    <tr>\n",
       "      <th>1817</th>\n",
       "      <td>2022</td>\n",
       "      <td>92</td>\n",
       "      <td>Servicios de carácter general</td>\n",
       "      <td>92009</td>\n",
       "      <td>Asesoría jurídica</td>\n",
       "      <td>6.631859e+06</td>\n",
       "      <td>1219976.10</td>\n",
       "    </tr>\n",
       "    <tr>\n",
       "      <th>1818</th>\n",
       "      <td>2022</td>\n",
       "      <td>44</td>\n",
       "      <td>Transporte público</td>\n",
       "      <td>NaN</td>\n",
       "      <td>NaN</td>\n",
       "      <td>1.952004e+08</td>\n",
       "      <td>NaN</td>\n",
       "    </tr>\n",
       "    <tr>\n",
       "      <th>1819</th>\n",
       "      <td>2022</td>\n",
       "      <td>44</td>\n",
       "      <td>Transporte público</td>\n",
       "      <td>44110</td>\n",
       "      <td>Promoción, control y desarrollo del transporte</td>\n",
       "      <td>1.952004e+08</td>\n",
       "      <td>NaN</td>\n",
       "    </tr>\n",
       "  </tbody>\n",
       "</table>\n",
       "<p>1820 rows × 7 columns</p>\n",
       "</div>"
      ],
      "text/plain": [
       "       Año  Id Política                Nombre Política Id Programa  \\\n",
       "0     2011           24             Fomento del empleo         NaN   \n",
       "1     2011           24             Fomento del empleo       24108   \n",
       "2     2011           24             Fomento del empleo       24102   \n",
       "3     2011           24             Fomento del empleo       24103   \n",
       "4     2011           24             Fomento del empleo       24100   \n",
       "...    ...          ...                            ...         ...   \n",
       "1815  2022           92  Servicios de carácter general       92210   \n",
       "1816  2022           92  Servicios de carácter general       92008   \n",
       "1817  2022           92  Servicios de carácter general       92009   \n",
       "1818  2022           44             Transporte público         NaN   \n",
       "1819  2022           44             Transporte público       44110   \n",
       "\n",
       "                                        Nombre Programa  Presupuesto Gasto  \\\n",
       "0                                                   NaN       5.421054e+07   \n",
       "1                          Programa integrado de empleo       1.189708e+06   \n",
       "2                  Formación profesional para el empleo       2.810259e+06   \n",
       "3               Políticas activas de empleo municipales       9.539245e+06   \n",
       "4     Dirección y gestión administrativa de la Agenc...       1.639677e+07   \n",
       "...                                                 ...                ...   \n",
       "1815                            Oficina de coordinación       8.678160e+05   \n",
       "1816                  Planificación de recursos humanos       1.142852e+07   \n",
       "1817                                  Asesoría jurídica       6.631859e+06   \n",
       "1818                                                NaN       1.952004e+08   \n",
       "1819     Promoción, control y desarrollo del transporte       1.952004e+08   \n",
       "\n",
       "       Gasto Real  \n",
       "0     47913922.89  \n",
       "1      1203749.90  \n",
       "2      2348227.36  \n",
       "3      8168288.15  \n",
       "4     11349697.44  \n",
       "...           ...  \n",
       "1815    179140.84  \n",
       "1816   2136730.36  \n",
       "1817   1219976.10  \n",
       "1818          NaN  \n",
       "1819          NaN  \n",
       "\n",
       "[1820 rows x 7 columns]"
      ]
     },
     "execution_count": 42,
     "metadata": {},
     "output_type": "execute_result"
    }
   ],
   "source": [
    "df"
   ]
  },
  {
   "cell_type": "markdown",
   "metadata": {},
   "source": [
    "## Exploración del dataframe\n",
    "Con el comando \"df.info()\" nos detalla la información de dicha tabla. Con el comando \"df.info()\" se muestra la información sobre el dataframe entre la que incluye el índice (RangeIndex) con el número de entradas, el número de columnas que hay (Data Columns), el nombre de las columnas (Colum), la cantidad de datos nulos que posee la tabla (Non-Null Count), el tipo de variable de las columnas (Dtype) y el tamaño (memory usage. [Toda la información ha sido obtenida de la página oficial de Pandas](https://pandas.pydata.org/docs/reference/api/pandas.DataFrame.html)"
   ]
  },
  {
   "cell_type": "code",
   "execution_count": 44,
   "metadata": {},
   "outputs": [
    {
     "name": "stdout",
     "output_type": "stream",
     "text": [
      "<class 'pandas.core.frame.DataFrame'>\n",
      "RangeIndex: 1820 entries, 0 to 1819\n",
      "Data columns (total 7 columns):\n",
      " #   Column             Non-Null Count  Dtype  \n",
      "---  ------             --------------  -----  \n",
      " 0   Año                1820 non-null   int64  \n",
      " 1   Id Política        1820 non-null   int64  \n",
      " 2   Nombre Política    1820 non-null   object \n",
      " 3   Id Programa        1597 non-null   object \n",
      " 4   Nombre Programa    1597 non-null   object \n",
      " 5   Presupuesto Gasto  1810 non-null   float64\n",
      " 6   Gasto Real         1791 non-null   float64\n",
      "dtypes: float64(2), int64(2), object(3)\n",
      "memory usage: 99.7+ KB\n"
     ]
    }
   ],
   "source": [
    "df.info()"
   ]
  },
  {
   "cell_type": "markdown",
   "metadata": {},
   "source": [
    "## Cabecera\n",
    "\n",
    "Con el comando \"df.head() nos va a mostrar las primeras filas de la tabla. Dentro del paréntesis podemos delimitar el número de filas que queremos visualizar"
   ]
  },
  {
   "cell_type": "code",
   "execution_count": 47,
   "metadata": {},
   "outputs": [
    {
     "data": {
      "text/html": [
       "<div>\n",
       "<style scoped>\n",
       "    .dataframe tbody tr th:only-of-type {\n",
       "        vertical-align: middle;\n",
       "    }\n",
       "\n",
       "    .dataframe tbody tr th {\n",
       "        vertical-align: top;\n",
       "    }\n",
       "\n",
       "    .dataframe thead th {\n",
       "        text-align: right;\n",
       "    }\n",
       "</style>\n",
       "<table border=\"1\" class=\"dataframe\">\n",
       "  <thead>\n",
       "    <tr style=\"text-align: right;\">\n",
       "      <th></th>\n",
       "      <th>Año</th>\n",
       "      <th>Id Política</th>\n",
       "      <th>Nombre Política</th>\n",
       "      <th>Id Programa</th>\n",
       "      <th>Nombre Programa</th>\n",
       "      <th>Presupuesto Gasto</th>\n",
       "      <th>Gasto Real</th>\n",
       "    </tr>\n",
       "  </thead>\n",
       "  <tbody>\n",
       "    <tr>\n",
       "      <th>0</th>\n",
       "      <td>2011</td>\n",
       "      <td>24</td>\n",
       "      <td>Fomento del empleo</td>\n",
       "      <td>NaN</td>\n",
       "      <td>NaN</td>\n",
       "      <td>54210544.09</td>\n",
       "      <td>47913922.89</td>\n",
       "    </tr>\n",
       "    <tr>\n",
       "      <th>1</th>\n",
       "      <td>2011</td>\n",
       "      <td>24</td>\n",
       "      <td>Fomento del empleo</td>\n",
       "      <td>24108</td>\n",
       "      <td>Programa integrado de empleo</td>\n",
       "      <td>1189708.00</td>\n",
       "      <td>1203749.90</td>\n",
       "    </tr>\n",
       "    <tr>\n",
       "      <th>2</th>\n",
       "      <td>2011</td>\n",
       "      <td>24</td>\n",
       "      <td>Fomento del empleo</td>\n",
       "      <td>24102</td>\n",
       "      <td>Formación profesional para el empleo</td>\n",
       "      <td>2810259.00</td>\n",
       "      <td>2348227.36</td>\n",
       "    </tr>\n",
       "    <tr>\n",
       "      <th>3</th>\n",
       "      <td>2011</td>\n",
       "      <td>24</td>\n",
       "      <td>Fomento del empleo</td>\n",
       "      <td>24103</td>\n",
       "      <td>Políticas activas de empleo municipales</td>\n",
       "      <td>9539245.47</td>\n",
       "      <td>8168288.15</td>\n",
       "    </tr>\n",
       "    <tr>\n",
       "      <th>4</th>\n",
       "      <td>2011</td>\n",
       "      <td>24</td>\n",
       "      <td>Fomento del empleo</td>\n",
       "      <td>24100</td>\n",
       "      <td>Dirección y gestión administrativa de la Agenc...</td>\n",
       "      <td>16396774.95</td>\n",
       "      <td>11349697.44</td>\n",
       "    </tr>\n",
       "  </tbody>\n",
       "</table>\n",
       "</div>"
      ],
      "text/plain": [
       "    Año  Id Política     Nombre Política Id Programa  \\\n",
       "0  2011           24  Fomento del empleo         NaN   \n",
       "1  2011           24  Fomento del empleo       24108   \n",
       "2  2011           24  Fomento del empleo       24102   \n",
       "3  2011           24  Fomento del empleo       24103   \n",
       "4  2011           24  Fomento del empleo       24100   \n",
       "\n",
       "                                     Nombre Programa  Presupuesto Gasto  \\\n",
       "0                                                NaN        54210544.09   \n",
       "1                       Programa integrado de empleo         1189708.00   \n",
       "2               Formación profesional para el empleo         2810259.00   \n",
       "3            Políticas activas de empleo municipales         9539245.47   \n",
       "4  Dirección y gestión administrativa de la Agenc...        16396774.95   \n",
       "\n",
       "    Gasto Real  \n",
       "0  47913922.89  \n",
       "1   1203749.90  \n",
       "2   2348227.36  \n",
       "3   8168288.15  \n",
       "4  11349697.44  "
      ]
     },
     "execution_count": 47,
     "metadata": {},
     "output_type": "execute_result"
    }
   ],
   "source": [
    "df.head()"
   ]
  },
  {
   "cell_type": "markdown",
   "metadata": {},
   "source": [
    "## Cola\n",
    "A continuación con el comando \"df.tail()\" se visualizarán las últimas filas de la tabla"
   ]
  },
  {
   "cell_type": "code",
   "execution_count": 48,
   "metadata": {},
   "outputs": [
    {
     "data": {
      "text/html": [
       "<div>\n",
       "<style scoped>\n",
       "    .dataframe tbody tr th:only-of-type {\n",
       "        vertical-align: middle;\n",
       "    }\n",
       "\n",
       "    .dataframe tbody tr th {\n",
       "        vertical-align: top;\n",
       "    }\n",
       "\n",
       "    .dataframe thead th {\n",
       "        text-align: right;\n",
       "    }\n",
       "</style>\n",
       "<table border=\"1\" class=\"dataframe\">\n",
       "  <thead>\n",
       "    <tr style=\"text-align: right;\">\n",
       "      <th></th>\n",
       "      <th>Año</th>\n",
       "      <th>Id Política</th>\n",
       "      <th>Nombre Política</th>\n",
       "      <th>Id Programa</th>\n",
       "      <th>Nombre Programa</th>\n",
       "      <th>Presupuesto Gasto</th>\n",
       "      <th>Gasto Real</th>\n",
       "    </tr>\n",
       "  </thead>\n",
       "  <tbody>\n",
       "    <tr>\n",
       "      <th>1815</th>\n",
       "      <td>2022</td>\n",
       "      <td>92</td>\n",
       "      <td>Servicios de carácter general</td>\n",
       "      <td>92210</td>\n",
       "      <td>Oficina de coordinación</td>\n",
       "      <td>867816.0</td>\n",
       "      <td>179140.84</td>\n",
       "    </tr>\n",
       "    <tr>\n",
       "      <th>1816</th>\n",
       "      <td>2022</td>\n",
       "      <td>92</td>\n",
       "      <td>Servicios de carácter general</td>\n",
       "      <td>92008</td>\n",
       "      <td>Planificación de recursos humanos</td>\n",
       "      <td>11428520.0</td>\n",
       "      <td>2136730.36</td>\n",
       "    </tr>\n",
       "    <tr>\n",
       "      <th>1817</th>\n",
       "      <td>2022</td>\n",
       "      <td>92</td>\n",
       "      <td>Servicios de carácter general</td>\n",
       "      <td>92009</td>\n",
       "      <td>Asesoría jurídica</td>\n",
       "      <td>6631859.0</td>\n",
       "      <td>1219976.10</td>\n",
       "    </tr>\n",
       "    <tr>\n",
       "      <th>1818</th>\n",
       "      <td>2022</td>\n",
       "      <td>44</td>\n",
       "      <td>Transporte público</td>\n",
       "      <td>NaN</td>\n",
       "      <td>NaN</td>\n",
       "      <td>195200412.0</td>\n",
       "      <td>NaN</td>\n",
       "    </tr>\n",
       "    <tr>\n",
       "      <th>1819</th>\n",
       "      <td>2022</td>\n",
       "      <td>44</td>\n",
       "      <td>Transporte público</td>\n",
       "      <td>44110</td>\n",
       "      <td>Promoción, control y desarrollo del transporte</td>\n",
       "      <td>195200412.0</td>\n",
       "      <td>NaN</td>\n",
       "    </tr>\n",
       "  </tbody>\n",
       "</table>\n",
       "</div>"
      ],
      "text/plain": [
       "       Año  Id Política                Nombre Política Id Programa  \\\n",
       "1815  2022           92  Servicios de carácter general       92210   \n",
       "1816  2022           92  Servicios de carácter general       92008   \n",
       "1817  2022           92  Servicios de carácter general       92009   \n",
       "1818  2022           44             Transporte público         NaN   \n",
       "1819  2022           44             Transporte público       44110   \n",
       "\n",
       "                                     Nombre Programa  Presupuesto Gasto  \\\n",
       "1815                         Oficina de coordinación           867816.0   \n",
       "1816               Planificación de recursos humanos         11428520.0   \n",
       "1817                               Asesoría jurídica          6631859.0   \n",
       "1818                                             NaN        195200412.0   \n",
       "1819  Promoción, control y desarrollo del transporte        195200412.0   \n",
       "\n",
       "      Gasto Real  \n",
       "1815   179140.84  \n",
       "1816  2136730.36  \n",
       "1817  1219976.10  \n",
       "1818         NaN  \n",
       "1819         NaN  "
      ]
     },
     "execution_count": 48,
     "metadata": {},
     "output_type": "execute_result"
    }
   ],
   "source": [
    "df.tail ()"
   ]
  },
  {
   "cell_type": "markdown",
   "metadata": {},
   "source": [
    "## Columnas\n",
    "Para saber el nombre de las columnas que conforman el conjunto de nuestra tabla, se realizará con el comando \"df.columns\""
   ]
  },
  {
   "cell_type": "code",
   "execution_count": 49,
   "metadata": {},
   "outputs": [
    {
     "data": {
      "text/plain": [
       "Index(['Año', 'Id Política', 'Nombre Política', 'Id Programa',\n",
       "       'Nombre Programa', 'Presupuesto Gasto', 'Gasto Real'],\n",
       "      dtype='object')"
      ]
     },
     "execution_count": 49,
     "metadata": {},
     "output_type": "execute_result"
    }
   ],
   "source": [
    "df.columns"
   ]
  },
  {
   "cell_type": "markdown",
   "metadata": {},
   "source": [
    "Además, este comando \"df[]\"  nos permite mostrar solo las columnas de la que queramos visualizar datos. Para ello, vamos a mostrar solo las columnas \"Presupuesto Gasto\" y \"Gasto Real\"."
   ]
  },
  {
   "cell_type": "markdown",
   "metadata": {},
   "source": [
    "#### Presupuesto Gasto \n",
    "A continuación se muestra solo la columna \"Presupuesto Gasto\" con \"df[]\""
   ]
  },
  {
   "cell_type": "code",
   "execution_count": 50,
   "metadata": {},
   "outputs": [
    {
     "data": {
      "text/plain": [
       "0       5.421054e+07\n",
       "1       1.189708e+06\n",
       "2       2.810259e+06\n",
       "3       9.539245e+06\n",
       "4       1.639677e+07\n",
       "            ...     \n",
       "1815    8.678160e+05\n",
       "1816    1.142852e+07\n",
       "1817    6.631859e+06\n",
       "1818    1.952004e+08\n",
       "1819    1.952004e+08\n",
       "Name: Presupuesto Gasto, Length: 1820, dtype: float64"
      ]
     },
     "execution_count": 50,
     "metadata": {},
     "output_type": "execute_result"
    }
   ],
   "source": [
    "df[\"Presupuesto Gasto\"]"
   ]
  },
  {
   "cell_type": "markdown",
   "metadata": {},
   "source": [
    "#### Gasto real\n",
    "A continuación se muestra solo la columna \"Gasto Real\" con \"df[]\""
   ]
  },
  {
   "cell_type": "code",
   "execution_count": 51,
   "metadata": {},
   "outputs": [
    {
     "data": {
      "text/plain": [
       "0       47913922.89\n",
       "1        1203749.90\n",
       "2        2348227.36\n",
       "3        8168288.15\n",
       "4       11349697.44\n",
       "           ...     \n",
       "1815      179140.84\n",
       "1816     2136730.36\n",
       "1817     1219976.10\n",
       "1818            NaN\n",
       "1819            NaN\n",
       "Name: Gasto Real, Length: 1820, dtype: float64"
      ]
     },
     "execution_count": 51,
     "metadata": {},
     "output_type": "execute_result"
    }
   ],
   "source": [
    "df[\"Gasto Real\"]"
   ]
  },
  {
   "cell_type": "markdown",
   "metadata": {},
   "source": [
    "Al igual que se puede mostrar una sola columna, también se puede visualizar una sola fila de una columna. Para ejemplificarlo, mostraré la fila 10 de la columna Gasto Real. "
   ]
  },
  {
   "cell_type": "code",
   "execution_count": 53,
   "metadata": {},
   "outputs": [
    {
     "data": {
      "text/plain": [
       "708489668.82"
      ]
     },
     "execution_count": 53,
     "metadata": {},
     "output_type": "execute_result"
    }
   ],
   "source": [
    "df[\"Gasto Real\"][10]"
   ]
  },
  {
   "cell_type": "markdown",
   "metadata": {},
   "source": [
    "### Visualizamos las variables estadísticas\n",
    "Con el comando \"df_es.describe()\" se desginarán las variables estadísticas del dataframe como media, meadiana, máx, mín, std y conteos, entre otros."
   ]
  },
  {
   "cell_type": "code",
   "execution_count": 54,
   "metadata": {},
   "outputs": [
    {
     "data": {
      "text/html": [
       "<div>\n",
       "<style scoped>\n",
       "    .dataframe tbody tr th:only-of-type {\n",
       "        vertical-align: middle;\n",
       "    }\n",
       "\n",
       "    .dataframe tbody tr th {\n",
       "        vertical-align: top;\n",
       "    }\n",
       "\n",
       "    .dataframe thead th {\n",
       "        text-align: right;\n",
       "    }\n",
       "</style>\n",
       "<table border=\"1\" class=\"dataframe\">\n",
       "  <thead>\n",
       "    <tr style=\"text-align: right;\">\n",
       "      <th></th>\n",
       "      <th>Año</th>\n",
       "      <th>Id Política</th>\n",
       "      <th>Presupuesto Gasto</th>\n",
       "      <th>Gasto Real</th>\n",
       "    </tr>\n",
       "  </thead>\n",
       "  <tbody>\n",
       "    <tr>\n",
       "      <th>count</th>\n",
       "      <td>1820.000000</td>\n",
       "      <td>1820.000000</td>\n",
       "      <td>1.810000e+03</td>\n",
       "      <td>1.791000e+03</td>\n",
       "    </tr>\n",
       "    <tr>\n",
       "      <th>mean</th>\n",
       "      <td>2016.836264</td>\n",
       "      <td>49.826923</td>\n",
       "      <td>7.182683e+07</td>\n",
       "      <td>5.957415e+07</td>\n",
       "    </tr>\n",
       "    <tr>\n",
       "      <th>std</th>\n",
       "      <td>3.477818</td>\n",
       "      <td>33.819985</td>\n",
       "      <td>1.678057e+08</td>\n",
       "      <td>1.537209e+08</td>\n",
       "    </tr>\n",
       "    <tr>\n",
       "      <th>min</th>\n",
       "      <td>2011.000000</td>\n",
       "      <td>1.000000</td>\n",
       "      <td>1.226000e+03</td>\n",
       "      <td>3.469100e+02</td>\n",
       "    </tr>\n",
       "    <tr>\n",
       "      <th>25%</th>\n",
       "      <td>2014.000000</td>\n",
       "      <td>17.000000</td>\n",
       "      <td>2.907778e+06</td>\n",
       "      <td>1.794289e+06</td>\n",
       "    </tr>\n",
       "    <tr>\n",
       "      <th>50%</th>\n",
       "      <td>2017.000000</td>\n",
       "      <td>33.000000</td>\n",
       "      <td>1.261723e+07</td>\n",
       "      <td>8.942395e+06</td>\n",
       "    </tr>\n",
       "    <tr>\n",
       "      <th>75%</th>\n",
       "      <td>2020.000000</td>\n",
       "      <td>91.000000</td>\n",
       "      <td>6.405222e+07</td>\n",
       "      <td>4.868009e+07</td>\n",
       "    </tr>\n",
       "    <tr>\n",
       "      <th>max</th>\n",
       "      <td>2022.000000</td>\n",
       "      <td>93.000000</td>\n",
       "      <td>2.344455e+09</td>\n",
       "      <td>2.343548e+09</td>\n",
       "    </tr>\n",
       "  </tbody>\n",
       "</table>\n",
       "</div>"
      ],
      "text/plain": [
       "               Año  Id Política  Presupuesto Gasto    Gasto Real\n",
       "count  1820.000000  1820.000000       1.810000e+03  1.791000e+03\n",
       "mean   2016.836264    49.826923       7.182683e+07  5.957415e+07\n",
       "std       3.477818    33.819985       1.678057e+08  1.537209e+08\n",
       "min    2011.000000     1.000000       1.226000e+03  3.469100e+02\n",
       "25%    2014.000000    17.000000       2.907778e+06  1.794289e+06\n",
       "50%    2017.000000    33.000000       1.261723e+07  8.942395e+06\n",
       "75%    2020.000000    91.000000       6.405222e+07  4.868009e+07\n",
       "max    2022.000000    93.000000       2.344455e+09  2.343548e+09"
      ]
     },
     "execution_count": 54,
     "metadata": {},
     "output_type": "execute_result"
    }
   ],
   "source": [
    "df.describe()"
   ]
  },
  {
   "cell_type": "markdown",
   "metadata": {},
   "source": [
    "### Ordenamos el dataframe por columnas\n",
    "A continuación, ordenamos los datos solo mostrando una columna. Esto lo realizamos con \"df_es.set_index('')\". En este caso, solo queremos ver la columna \"Año\", así que ponemos en el paréntesis ese dato. "
   ]
  },
  {
   "cell_type": "code",
   "execution_count": 55,
   "metadata": {},
   "outputs": [
    {
     "data": {
      "text/html": [
       "<div>\n",
       "<style scoped>\n",
       "    .dataframe tbody tr th:only-of-type {\n",
       "        vertical-align: middle;\n",
       "    }\n",
       "\n",
       "    .dataframe tbody tr th {\n",
       "        vertical-align: top;\n",
       "    }\n",
       "\n",
       "    .dataframe thead th {\n",
       "        text-align: right;\n",
       "    }\n",
       "</style>\n",
       "<table border=\"1\" class=\"dataframe\">\n",
       "  <thead>\n",
       "    <tr style=\"text-align: right;\">\n",
       "      <th></th>\n",
       "      <th>Id Política</th>\n",
       "      <th>Nombre Política</th>\n",
       "      <th>Id Programa</th>\n",
       "      <th>Nombre Programa</th>\n",
       "      <th>Presupuesto Gasto</th>\n",
       "      <th>Gasto Real</th>\n",
       "    </tr>\n",
       "    <tr>\n",
       "      <th>Año</th>\n",
       "      <th></th>\n",
       "      <th></th>\n",
       "      <th></th>\n",
       "      <th></th>\n",
       "      <th></th>\n",
       "      <th></th>\n",
       "    </tr>\n",
       "  </thead>\n",
       "  <tbody>\n",
       "    <tr>\n",
       "      <th>2011</th>\n",
       "      <td>24</td>\n",
       "      <td>Fomento del empleo</td>\n",
       "      <td>NaN</td>\n",
       "      <td>NaN</td>\n",
       "      <td>5.421054e+07</td>\n",
       "      <td>47913922.89</td>\n",
       "    </tr>\n",
       "    <tr>\n",
       "      <th>2011</th>\n",
       "      <td>24</td>\n",
       "      <td>Fomento del empleo</td>\n",
       "      <td>24108</td>\n",
       "      <td>Programa integrado de empleo</td>\n",
       "      <td>1.189708e+06</td>\n",
       "      <td>1203749.90</td>\n",
       "    </tr>\n",
       "    <tr>\n",
       "      <th>2011</th>\n",
       "      <td>24</td>\n",
       "      <td>Fomento del empleo</td>\n",
       "      <td>24102</td>\n",
       "      <td>Formación profesional para el empleo</td>\n",
       "      <td>2.810259e+06</td>\n",
       "      <td>2348227.36</td>\n",
       "    </tr>\n",
       "    <tr>\n",
       "      <th>2011</th>\n",
       "      <td>24</td>\n",
       "      <td>Fomento del empleo</td>\n",
       "      <td>24103</td>\n",
       "      <td>Políticas activas de empleo municipales</td>\n",
       "      <td>9.539245e+06</td>\n",
       "      <td>8168288.15</td>\n",
       "    </tr>\n",
       "    <tr>\n",
       "      <th>2011</th>\n",
       "      <td>24</td>\n",
       "      <td>Fomento del empleo</td>\n",
       "      <td>24100</td>\n",
       "      <td>Dirección y gestión administrativa de la Agenc...</td>\n",
       "      <td>1.639677e+07</td>\n",
       "      <td>11349697.44</td>\n",
       "    </tr>\n",
       "    <tr>\n",
       "      <th>...</th>\n",
       "      <td>...</td>\n",
       "      <td>...</td>\n",
       "      <td>...</td>\n",
       "      <td>...</td>\n",
       "      <td>...</td>\n",
       "      <td>...</td>\n",
       "    </tr>\n",
       "    <tr>\n",
       "      <th>2022</th>\n",
       "      <td>92</td>\n",
       "      <td>Servicios de carácter general</td>\n",
       "      <td>92210</td>\n",
       "      <td>Oficina de coordinación</td>\n",
       "      <td>8.678160e+05</td>\n",
       "      <td>179140.84</td>\n",
       "    </tr>\n",
       "    <tr>\n",
       "      <th>2022</th>\n",
       "      <td>92</td>\n",
       "      <td>Servicios de carácter general</td>\n",
       "      <td>92008</td>\n",
       "      <td>Planificación de recursos humanos</td>\n",
       "      <td>1.142852e+07</td>\n",
       "      <td>2136730.36</td>\n",
       "    </tr>\n",
       "    <tr>\n",
       "      <th>2022</th>\n",
       "      <td>92</td>\n",
       "      <td>Servicios de carácter general</td>\n",
       "      <td>92009</td>\n",
       "      <td>Asesoría jurídica</td>\n",
       "      <td>6.631859e+06</td>\n",
       "      <td>1219976.10</td>\n",
       "    </tr>\n",
       "    <tr>\n",
       "      <th>2022</th>\n",
       "      <td>44</td>\n",
       "      <td>Transporte público</td>\n",
       "      <td>NaN</td>\n",
       "      <td>NaN</td>\n",
       "      <td>1.952004e+08</td>\n",
       "      <td>NaN</td>\n",
       "    </tr>\n",
       "    <tr>\n",
       "      <th>2022</th>\n",
       "      <td>44</td>\n",
       "      <td>Transporte público</td>\n",
       "      <td>44110</td>\n",
       "      <td>Promoción, control y desarrollo del transporte</td>\n",
       "      <td>1.952004e+08</td>\n",
       "      <td>NaN</td>\n",
       "    </tr>\n",
       "  </tbody>\n",
       "</table>\n",
       "<p>1820 rows × 6 columns</p>\n",
       "</div>"
      ],
      "text/plain": [
       "      Id Política                Nombre Política Id Programa  \\\n",
       "Año                                                            \n",
       "2011           24             Fomento del empleo         NaN   \n",
       "2011           24             Fomento del empleo       24108   \n",
       "2011           24             Fomento del empleo       24102   \n",
       "2011           24             Fomento del empleo       24103   \n",
       "2011           24             Fomento del empleo       24100   \n",
       "...           ...                            ...         ...   \n",
       "2022           92  Servicios de carácter general       92210   \n",
       "2022           92  Servicios de carácter general       92008   \n",
       "2022           92  Servicios de carácter general       92009   \n",
       "2022           44             Transporte público         NaN   \n",
       "2022           44             Transporte público       44110   \n",
       "\n",
       "                                        Nombre Programa  Presupuesto Gasto  \\\n",
       "Año                                                                          \n",
       "2011                                                NaN       5.421054e+07   \n",
       "2011                       Programa integrado de empleo       1.189708e+06   \n",
       "2011               Formación profesional para el empleo       2.810259e+06   \n",
       "2011            Políticas activas de empleo municipales       9.539245e+06   \n",
       "2011  Dirección y gestión administrativa de la Agenc...       1.639677e+07   \n",
       "...                                                 ...                ...   \n",
       "2022                            Oficina de coordinación       8.678160e+05   \n",
       "2022                  Planificación de recursos humanos       1.142852e+07   \n",
       "2022                                  Asesoría jurídica       6.631859e+06   \n",
       "2022                                                NaN       1.952004e+08   \n",
       "2022     Promoción, control y desarrollo del transporte       1.952004e+08   \n",
       "\n",
       "       Gasto Real  \n",
       "Año                \n",
       "2011  47913922.89  \n",
       "2011   1203749.90  \n",
       "2011   2348227.36  \n",
       "2011   8168288.15  \n",
       "2011  11349697.44  \n",
       "...           ...  \n",
       "2022    179140.84  \n",
       "2022   2136730.36  \n",
       "2022   1219976.10  \n",
       "2022          NaN  \n",
       "2022          NaN  \n",
       "\n",
       "[1820 rows x 6 columns]"
      ]
     },
     "execution_count": 55,
     "metadata": {},
     "output_type": "execute_result"
    }
   ],
   "source": [
    "df.set_index('Año')"
   ]
  },
  {
   "cell_type": "markdown",
   "metadata": {},
   "source": [
    "Se presenta la columna llamada Presupuesto Gasto una vez mostrada la tabla por Año con la función \"df.set_index('Año')['Presupuesto Gasto']\""
   ]
  },
  {
   "cell_type": "code",
   "execution_count": 57,
   "metadata": {},
   "outputs": [
    {
     "data": {
      "text/plain": [
       "Año\n",
       "2011    5.421054e+07\n",
       "2011    1.189708e+06\n",
       "2011    2.810259e+06\n",
       "2011    9.539245e+06\n",
       "2011    1.639677e+07\n",
       "            ...     \n",
       "2022    8.678160e+05\n",
       "2022    1.142852e+07\n",
       "2022    6.631859e+06\n",
       "2022    1.952004e+08\n",
       "2022    1.952004e+08\n",
       "Name: Presupuesto Gasto, Length: 1820, dtype: float64"
      ]
     },
     "execution_count": 57,
     "metadata": {},
     "output_type": "execute_result"
    }
   ],
   "source": [
    "df.set_index('Año')['Presupuesto Gasto']"
   ]
  },
  {
   "cell_type": "markdown",
   "metadata": {},
   "source": [
    "Se presenta la columna llamada Gasto Real una vez mostrada la tabla por Año con la función \"df_es.set_index('Año')['Gasto Real']\""
   ]
  },
  {
   "cell_type": "code",
   "execution_count": 70,
   "metadata": {},
   "outputs": [
    {
     "data": {
      "text/plain": [
       "Año\n",
       "2011    47913922.89\n",
       "2011     1203749.90\n",
       "2011     2348227.36\n",
       "2011     8168288.15\n",
       "2011    11349697.44\n",
       "           ...     \n",
       "2022      179140.84\n",
       "2022     2136730.36\n",
       "2022     1219976.10\n",
       "2022            NaN\n",
       "2022            NaN\n",
       "Name: Gasto Real, Length: 1820, dtype: float64"
      ]
     },
     "execution_count": 70,
     "metadata": {},
     "output_type": "execute_result"
    }
   ],
   "source": [
    "df.set_index('Año')['Gasto Real']"
   ]
  },
  {
   "cell_type": "markdown",
   "metadata": {},
   "source": [
    "## Elaboramos un gráfico con las columnas Año y Presupuesto Gasto\n",
    "Como hemos indexados los datos según las variables \"Año\" y \"Presupuesto Gasto\", con el comando \".plot\" se creará un gráfico. \n",
    "Con el comando \"title=\" permitirá la opción de poner un título a nuestro gráfico.  El gráfico se creará, a partir de el nuevo dataframe y con la función .plot. El resto de funciones ya las hemos ido explicando a lo largo de este *notebook*"
   ]
  },
  {
   "cell_type": "code",
   "execution_count": 75,
   "metadata": {},
   "outputs": [
    {
     "data": {
      "text/plain": [
       "<AxesSubplot:title={'center':'Presupuesto para el gasto público'}, xlabel='Año'>"
      ]
     },
     "execution_count": 75,
     "metadata": {},
     "output_type": "execute_result"
    },
    {
     "data": {
      "image/png": "[encoded data removed]",
      "text/plain": [
       "<Figure size 432x288 with 1 Axes>"
      ]
     },
     "metadata": {
      "needs_background": "light"
     },
     "output_type": "display_data"
    }
   ],
   "source": [
    "url_gastos = 'https://presupuestosabiertos.madrid.es/es/municipio_madrid_gastosf.csv'\n",
    "df = pd.read_csv(url_gasto)\n",
    "df.set_index('Año')['Presupuesto Gasto'].plot(title='Presupuesto para el gasto público')"
   ]
  },
  {
   "cell_type": "markdown",
   "metadata": {},
   "source": [
    "## Elaboramos otro gráfico con las variables \"Año\" y \"Gasto Real\"\n",
    "Ahora en este caso indexamos los datos según las variables \"Año\" y \"Gasto Real\""
   ]
  },
  {
   "cell_type": "code",
   "execution_count": 76,
   "metadata": {},
   "outputs": [
    {
     "data": {
      "text/plain": [
       "<AxesSubplot:title={'center':'Gasto Real del presupuesto'}, xlabel='Año'>"
      ]
     },
     "execution_count": 76,
     "metadata": {},
     "output_type": "execute_result"
    },
    {
     "data": {
      "image/png": "[encoded data removed]",
      "text/plain": [
       "<Figure size 432x288 with 1 Axes>"
      ]
     },
     "metadata": {
      "needs_background": "light"
     },
     "output_type": "display_data"
    }
   ],
   "source": [
    "url_gastos = 'https://presupuestosabiertos.madrid.es/es/municipio_madrid_gastosf.csv'\n",
    "df = pd.read_csv(url_gasto)\n",
    "df.set_index('Año')['Gasto Real'].plot(title='Gasto Real del presupuesto')"
   ]
  },
  {
   "cell_type": "markdown",
   "metadata": {},
   "source": [
    "## Comparación de Presupuesto Gasto y Gasto Real\n",
    "\n",
    "Vamos a comparar los datos de Presupuesto Gasto y Gasto Real tomando como referencia el año para poder analizar las diferencias entre estos datos numéricos. \n",
    "\n",
    "Para dicha comparación, definimos dos nuevas variables mediante \"gastos_pres\" correspondiente al Presupuesto Gasto y la otra variable, \"gastos_real\" para los datos de \"Gastos Real\""
   ]
  },
  {
   "cell_type": "code",
   "execution_count": 61,
   "metadata": {},
   "outputs": [],
   "source": [
    "gastos_pres = df.set_index('Año')['Presupuesto Gasto']\n",
    "gastos_real = df.set_index('Año')['Gasto Real']"
   ]
  },
  {
   "cell_type": "markdown",
   "metadata": {},
   "source": [
    "Para poder crear el data frame necesitamos concatenarlos con el comando \"vs\" para ver los datos visualizados en una misma tabla"
   ]
  },
  {
   "cell_type": "code",
   "execution_count": 63,
   "metadata": {},
   "outputs": [
    {
     "data": {
      "text/html": [
       "<div>\n",
       "<style scoped>\n",
       "    .dataframe tbody tr th:only-of-type {\n",
       "        vertical-align: middle;\n",
       "    }\n",
       "\n",
       "    .dataframe tbody tr th {\n",
       "        vertical-align: top;\n",
       "    }\n",
       "\n",
       "    .dataframe thead th {\n",
       "        text-align: right;\n",
       "    }\n",
       "</style>\n",
       "<table border=\"1\" class=\"dataframe\">\n",
       "  <thead>\n",
       "    <tr style=\"text-align: right;\">\n",
       "      <th></th>\n",
       "      <th>Presupuesto Gasto</th>\n",
       "      <th>Gasto Real</th>\n",
       "    </tr>\n",
       "    <tr>\n",
       "      <th>Año</th>\n",
       "      <th></th>\n",
       "      <th></th>\n",
       "    </tr>\n",
       "  </thead>\n",
       "  <tbody>\n",
       "    <tr>\n",
       "      <th>2011</th>\n",
       "      <td>5.421054e+07</td>\n",
       "      <td>47913922.89</td>\n",
       "    </tr>\n",
       "    <tr>\n",
       "      <th>2011</th>\n",
       "      <td>1.189708e+06</td>\n",
       "      <td>1203749.90</td>\n",
       "    </tr>\n",
       "    <tr>\n",
       "      <th>2011</th>\n",
       "      <td>2.810259e+06</td>\n",
       "      <td>2348227.36</td>\n",
       "    </tr>\n",
       "    <tr>\n",
       "      <th>2011</th>\n",
       "      <td>9.539245e+06</td>\n",
       "      <td>8168288.15</td>\n",
       "    </tr>\n",
       "    <tr>\n",
       "      <th>2011</th>\n",
       "      <td>1.639677e+07</td>\n",
       "      <td>11349697.44</td>\n",
       "    </tr>\n",
       "    <tr>\n",
       "      <th>...</th>\n",
       "      <td>...</td>\n",
       "      <td>...</td>\n",
       "    </tr>\n",
       "    <tr>\n",
       "      <th>2022</th>\n",
       "      <td>8.678160e+05</td>\n",
       "      <td>179140.84</td>\n",
       "    </tr>\n",
       "    <tr>\n",
       "      <th>2022</th>\n",
       "      <td>1.142852e+07</td>\n",
       "      <td>2136730.36</td>\n",
       "    </tr>\n",
       "    <tr>\n",
       "      <th>2022</th>\n",
       "      <td>6.631859e+06</td>\n",
       "      <td>1219976.10</td>\n",
       "    </tr>\n",
       "    <tr>\n",
       "      <th>2022</th>\n",
       "      <td>1.952004e+08</td>\n",
       "      <td>NaN</td>\n",
       "    </tr>\n",
       "    <tr>\n",
       "      <th>2022</th>\n",
       "      <td>1.952004e+08</td>\n",
       "      <td>NaN</td>\n",
       "    </tr>\n",
       "  </tbody>\n",
       "</table>\n",
       "<p>1820 rows × 2 columns</p>\n",
       "</div>"
      ],
      "text/plain": [
       "      Presupuesto Gasto   Gasto Real\n",
       "Año                                 \n",
       "2011       5.421054e+07  47913922.89\n",
       "2011       1.189708e+06   1203749.90\n",
       "2011       2.810259e+06   2348227.36\n",
       "2011       9.539245e+06   8168288.15\n",
       "2011       1.639677e+07  11349697.44\n",
       "...                 ...          ...\n",
       "2022       8.678160e+05    179140.84\n",
       "2022       1.142852e+07   2136730.36\n",
       "2022       6.631859e+06   1219976.10\n",
       "2022       1.952004e+08          NaN\n",
       "2022       1.952004e+08          NaN\n",
       "\n",
       "[1820 rows x 2 columns]"
      ]
     },
     "execution_count": 63,
     "metadata": {},
     "output_type": "execute_result"
    }
   ],
   "source": [
    "vs = pd.concat([gastos_pres,gastos_real],axis=1)\n",
    "vs"
   ]
  },
  {
   "cell_type": "markdown",
   "metadata": {},
   "source": [
    "## Elaboramos un gráfico comparativo\n",
    "Como hemos concatenado los datos, procedemos a crear un gráfico. Ponemos \"vs.columns\" e indicamos el número de columnas y luego creamos el gráfico con la función \"vs.plot\". Además, le damos nombre al gráfico con la función \"title=\""
   ]
  },
  {
   "cell_type": "code",
   "execution_count": 64,
   "metadata": {},
   "outputs": [
    {
     "data": {
      "text/plain": [
       "<AxesSubplot:title={'center':'Presupuesto Gasto vs Gasto Real'}, xlabel='Año'>"
      ]
     },
     "execution_count": 64,
     "metadata": {},
     "output_type": "execute_result"
    },
    {
     "data": {
      "image/png": "[encoded data removed]",
      "text/plain": [
       "<Figure size 432x288 with 1 Axes>"
      ]
     },
     "metadata": {
      "needs_background": "light"
     },
     "output_type": "display_data"
    }
   ],
   "source": [
    "vs.columns = ['Presupuesto Gasto', 'Gasto Real']\n",
    "vs.plot(title='Presupuesto Gasto vs Gasto Real')"
   ]
  },
  {
   "cell_type": "markdown",
   "metadata": {},
   "source": [
    "### Lo guardamos en un formato CSV\n",
    "Ahora para poder guardar en nuestro Jupyter todo el trabajo realizado, lo guardaremos en formato csv con la función vs.to_csv"
   ]
  },
  {
   "cell_type": "code",
   "execution_count": 77,
   "metadata": {},
   "outputs": [],
   "source": [
    "vs.to_csv('presupuesto.madrid')"
   ]
  },
  {
   "cell_type": "markdown",
   "metadata": {},
   "source": [
    "Ahora comprobamos que todo se ha guardado correctamente con el comando ls, que permite ver todo lo que tienes guardado en tu unidad de Jupyter; y le añadimos \"!\" que es lo que hace que Jupyter nos entienda y permita usar un comando de la terminal."
   ]
  },
  {
   "cell_type": "code",
   "execution_count": 78,
   "metadata": {},
   "outputs": [
    {
     "name": "stdout",
     "output_type": "stream",
     "text": [
      " api-pandas-folium.ipynb\t       presupuesto.png\r\n",
      " escit.png\t\t\t      'probando con r.ipynb'\r\n",
      " esvit.csv\t\t\t      'python-api-covid19-pandas 1.ipynb'\r\n",
      " esvsit.csv\t\t\t       python-api-covid19-pandas.ipynb\r\n",
      " evsit.png\t\t\t       seaborn-data\r\n",
      " phyton-pruebas.ipynb\t\t       Shared_Resources\r\n",
      " presupuesto.madrid\t\t       Untitled.ipynb\r\n",
      " presupuesto-madrid-csv-pandas.ipynb\r\n"
     ]
    }
   ],
   "source": [
    "!ls"
   ]
  },
  {
   "cell_type": "markdown",
   "metadata": {},
   "source": [
    "Guardamos el matplotlib.pylot y se renombra como plt. Además, guardaremos la imagen del gráfico"
   ]
  },
  {
   "cell_type": "code",
   "execution_count": 68,
   "metadata": {},
   "outputs": [
    {
     "data": {
      "image/png": "[encoded data removed]",
      "text/plain": [
       "<Figure size 432x288 with 1 Axes>"
      ]
     },
     "metadata": {
      "needs_background": "light"
     },
     "output_type": "display_data"
    }
   ],
   "source": [
    "import matplotlib.pyplot as plt\n",
    "vs.plot()\n",
    "plt.savefig('presupuesto.png')"
   ]
  },
  {
   "cell_type": "code",
   "execution_count": null,
   "metadata": {},
   "outputs": [],
   "source": []
  }
 ],
 "metadata": {
  "kernelspec": {
   "display_name": "Python 3",
   "language": "python",
   "name": "python3"
  },
  "language_info": {
   "codemirror_mode": {
    "name": "ipython",
    "version": 3
   },
   "file_extension": ".py",
   "mimetype": "text/x-python",
   "name": "python",
   "nbconvert_exporter": "python",
   "pygments_lexer": "ipython3",
   "version": "3.8.10"
  }
 },
 "nbformat": 4,
 "nbformat_minor": 4
}
